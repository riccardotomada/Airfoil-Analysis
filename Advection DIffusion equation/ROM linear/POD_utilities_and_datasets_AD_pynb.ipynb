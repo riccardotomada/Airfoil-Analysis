{
  "nbformat": 4,
  "nbformat_minor": 0,
  "metadata": {
    "colab": {
      "provenance": [],
      "authorship_tag": "ABX9TyOM/IHXFi2fruG/XZf2vHcN",
      "include_colab_link": true
    },
    "kernelspec": {
      "name": "python3",
      "display_name": "Python 3"
    },
    "language_info": {
      "name": "python"
    }
  },
  "cells": [
    {
      "cell_type": "markdown",
      "metadata": {
        "id": "view-in-github",
        "colab_type": "text"
      },
      "source": [
        "<a href=\"https://colab.research.google.com/github/riccardotomada/Airfoil-Analysis/blob/master/Advection%20DIffusion%20equation/ROM%20linear/POD_utilities_and_datasets_AD_pynb.ipynb\" target=\"_parent\"><img src=\"https://colab.research.google.com/assets/colab-badge.svg\" alt=\"Open In Colab\"/></a>"
      ]
    },
    {
      "cell_type": "code",
      "source": [
        "# Installing FEnICS\n",
        "%%capture\n",
        "try:\n",
        "    import dolfin\n",
        "except ImportError:\n",
        "    !wget \"https://fem-on-colab.github.io/releases/fenics-install.sh\" -O \"/tmp/fenics-install.sh\" && bash \"/tmp/fenics-install.sh\"\n",
        "    import dolfin "
      ],
      "metadata": {
        "id": "j_FWS0pT91tJ"
      },
      "execution_count": 23,
      "outputs": []
    },
    {
      "cell_type": "code",
      "source": [
        "# Importing the libraries needed\n",
        "from fenics import *\n",
        "import matplotlib.pyplot as plt\n",
        "from matplotlib.ticker import MultipleLocator\n",
        "import numpy as np\n",
        "from scipy.stats import qmc\n",
        "import csv\n",
        "from sklearn.decomposition import PCA"
      ],
      "metadata": {
        "id": "veKbfqlw9843"
      },
      "execution_count": 24,
      "outputs": []
    },
    {
      "cell_type": "code",
      "source": [
        "# FOM construction\n",
        "\n",
        "# Generating the mesh\n",
        "nx, ny = 50, 50\n",
        "mesh = UnitSquareMesh(nx, ny)\n",
        "dim = mesh.geometric_dimension()\n",
        "print(dim)\n",
        "mesh.coordinates().shape"
      ],
      "metadata": {
        "id": "Ef5kbZoAZjBI",
        "colab": {
          "base_uri": "https://localhost:8080/"
        },
        "outputId": "37cdfc46-572e-4262-c083-b529105ba9a8"
      },
      "execution_count": 25,
      "outputs": [
        {
          "output_type": "stream",
          "name": "stdout",
          "text": [
            "2\n"
          ]
        },
        {
          "output_type": "execute_result",
          "data": {
            "text/plain": [
              "(2601, 2)"
            ]
          },
          "metadata": {},
          "execution_count": 25
        }
      ]
    },
    {
      "cell_type": "code",
      "source": [
        "# Setting up the measures\n",
        "dx = Measure('dx', domain=mesh)"
      ],
      "metadata": {
        "id": "BjG_gGq3Z4hM"
      },
      "execution_count": 26,
      "outputs": []
    },
    {
      "cell_type": "code",
      "source": [
        "# Definition of finite element space\n",
        "degree = 2\n",
        "V = FunctionSpace(mesh, 'CG', degree)"
      ],
      "metadata": {
        "id": "AsurIsGjZ-zk"
      },
      "execution_count": 27,
      "outputs": []
    },
    {
      "cell_type": "code",
      "source": [
        "# Data of the problem\n",
        "bx, by = np.cos(np.pi/4.0), np.cos(np.pi/4.0)\n",
        "b = Constant((bx, by))\n",
        "f = Constant(0)"
      ],
      "metadata": {
        "id": "pMXRLEKuQLoM"
      },
      "execution_count": 28,
      "outputs": []
    },
    {
      "cell_type": "code",
      "source": [
        "# Generating the sampling grid to retrieve the SNapshots \n",
        "\n",
        "x_min, x_max = 0, 1\n",
        "y_min, y_max = 0, 1\n",
        "grid_dim = 96\n",
        "\n",
        "x = np.linspace(x_min, x_max, grid_dim)\n",
        "y = np.linspace(y_min, y_max, grid_dim)\n",
        "\n",
        "X = np.zeros((len(x)*len(y), 2))\n",
        "xs = np.vstack((x,)*len(y)).reshape(-1)\n",
        "ys = np.vstack((y,)*len(x)).T.reshape(-1)\n",
        "X[:, 0] = xs\n",
        "X[:, 1] = ys"
      ],
      "metadata": {
        "id": "mNvg-4lph_du"
      },
      "execution_count": 29,
      "outputs": []
    },
    {
      "cell_type": "code",
      "source": [
        "# Definition of Dirichlet boundary conditions\n",
        "gD0 = Constant(0.0)\n",
        "gD1 = Constant(1.0)"
      ],
      "metadata": {
        "id": "r_hMukoqEXwv"
      },
      "execution_count": 30,
      "outputs": []
    },
    {
      "cell_type": "code",
      "source": [
        "def boundary_right(x, on_boundary):\n",
        "  return on_boundary and np.isclose(x[0], 1.0)\n",
        "\n",
        "def boundary_bottom(x, on_boundary):\n",
        "  return on_boundary and np.isclose(x[1], 0.0)\n",
        "\n",
        "def boundary_left_bottom(x, on_boundary):\n",
        "  return on_boundary and np.isclose(x[0], 0.0) and (x[1] <= 0.2)\n",
        "\n",
        "def boundary_left_top(x, on_boundary):\n",
        "  return on_boundary and np.isclose(x[0], 0.0) and (x[1] >= 0.2)\n",
        "\n",
        "def boundary_top(x, on_boundary):\n",
        "  return on_boundary and np.isclose(x[1], 1.0)\n",
        "\n",
        "bc1 = DirichletBC(V, gD0, boundary_right)\n",
        "bc2 = DirichletBC(V, gD1, boundary_bottom)\n",
        "bc3 = DirichletBC(V, gD1, boundary_left_bottom)\n",
        "bc4 = DirichletBC(V, gD0, boundary_left_top)\n",
        "bc5 = DirichletBC(V, gD0, boundary_top)"
      ],
      "metadata": {
        "id": "fZqClu-zNE9M"
      },
      "execution_count": 31,
      "outputs": []
    },
    {
      "cell_type": "code",
      "source": [
        "num_samples     = 80\n",
        "truncated_modes = 15\n",
        "\n",
        "import random\n",
        "random.seed(123)\n",
        "\n",
        "def rnd():\n",
        "    exp = random.randint(-5, 1)\n",
        "    significand = 0.9 * random.random() + 0.1\n",
        "    return significand * 10**exp\n",
        "\n",
        "parameters = np.array([rnd() for _ in range(num_samples)])\n",
        "print(parameters.shape)\n",
        "\n",
        "Snapshots = np.zeros((10201, parameters.shape[0]))\n",
        "Snapshot_ae  = np.zeros((grid_dim**2,1))\n",
        "Snapshots_ae = np.zeros((grid_dim**2, parameters.shape[0]))\n",
        "\n",
        "for iter in range(parameters.shape[0]):\n",
        "  mu  = parameters[iter]\n",
        "  u = TrialFunction(V)\n",
        "  v = TestFunction(V)\n",
        "\n",
        "  a0 = (mu * dot(grad(u), grad(v))) * dx\n",
        "  a1 = (dot(b, grad(u)) * v) * dx\n",
        "  a  = a0 + a1\n",
        "  L = f * v * dx\n",
        "\n",
        "  # ... stabilization term\n",
        "  h = CellDiameter(mesh)\n",
        "  bnorm = sqrt(dot(b, b))\n",
        "  Pe = bnorm*h/(2*mu)\n",
        "  tau = 0.5*h/bnorm * conditional(Pe/3 > 1, 1, Pe/3)\n",
        "\n",
        "  # ... streamline diffusion stabilization\n",
        "  c = tau * dot(b, grad(u)) * dot(b, grad(v)) * dx \n",
        "  a_stab = a + c\n",
        "\n",
        "  # 4. solving discrete problem\n",
        "  u = Function(V)\n",
        "  solve(a_stab == L, u, [bc1, bc2, bc3, bc4, bc5])\n",
        "\n",
        "  Snapshot = np.array(u.vector())\n",
        "  Snapshots[:, iter] = Snapshot\n",
        "  for i in range(X.shape[0]):\n",
        "    Snapshot_ae[i] = u(X[i][0], X[i][1])\n",
        "  Snapshots_ae[:, iter] = Snapshot_ae[:,0]"
      ],
      "metadata": {
        "id": "eez1QplyaDAy",
        "colab": {
          "base_uri": "https://localhost:8080/"
        },
        "outputId": "4b339ac8-a5dc-4ee7-88b0-7333d31468fb"
      },
      "execution_count": 32,
      "outputs": [
        {
          "output_type": "stream",
          "name": "stdout",
          "text": [
            "(80,)\n"
          ]
        }
      ]
    },
    {
      "cell_type": "code",
      "source": [
        "# Performing the Singular Value Decomposition on the Snapshots matrix\n",
        "UU, SS, VV = np.linalg.svd(Snapshots, full_matrices=False)"
      ],
      "metadata": {
        "id": "ZCMxFMuNACwf"
      },
      "execution_count": 33,
      "outputs": []
    },
    {
      "cell_type": "code",
      "source": [
        "# Inspecting the Singular Values\n",
        "my_model = PCA(n_components = 0.999, svd_solver='full')\n",
        "my_model.fit_transform(Snapshots)\n",
        "\n",
        "n_modes = my_model.explained_variance_ratio_.cumsum().shape[0]\n",
        "print(\"The number of modes required to capture the 99% of the variance is: \" + str(n_modes))"
      ],
      "metadata": {
        "id": "Q8DArKe9sZua",
        "colab": {
          "base_uri": "https://localhost:8080/"
        },
        "outputId": "095b4572-1d65-4d41-fd65-2534c09db8ab"
      },
      "execution_count": 34,
      "outputs": [
        {
          "output_type": "stream",
          "name": "stdout",
          "text": [
            "The number of modes required to capture the 99% of the variance is: 5\n"
          ]
        }
      ]
    },
    {
      "cell_type": "code",
      "source": [
        "# Plotting the Singular Values\n",
        "fig = plt.figure()\n",
        "ax = fig.add_subplot(1, 1, 1)\n",
        "plt.plot(SS, marker=\"o\", color = '#90A4AE')\n",
        "plt.title(\"Singualar Values\")\n",
        "ax.xaxis.set_minor_locator(MultipleLocator(.5))\n",
        "ax.yaxis.set_minor_locator(MultipleLocator(.1))\n",
        "plt.grid(alpha = 0.4, linestyle='--')\n",
        "fig.tight_layout()\n",
        "ax.set_yscale('log')\n",
        "\n",
        "print(Snapshots_ae.shape)\n",
        "print(UU.shape)\n",
        "\n",
        "UU = UU[:, :truncated_modes]\n",
        "print(UU.shape)"
      ],
      "metadata": {
        "colab": {
          "base_uri": "https://localhost:8080/",
          "height": 384
        },
        "id": "tpaGiIz_BdE6",
        "outputId": "e238da35-dfa5-4bc1-a92b-7b931d1df765"
      },
      "execution_count": 35,
      "outputs": [
        {
          "output_type": "stream",
          "name": "stderr",
          "text": [
            "WARNING:matplotlib.ticker:Locator attempting to generate 6896 ticks ([-31.400000000000002, ..., 658.1]), which exceeds Locator.MAXTICKS (1000).\n",
            "WARNING:matplotlib.ticker:Locator attempting to generate 6896 ticks ([-31.400000000000002, ..., 658.1]), which exceeds Locator.MAXTICKS (1000).\n"
          ]
        },
        {
          "output_type": "stream",
          "name": "stdout",
          "text": [
            "(9216, 80)\n",
            "(10201, 80)\n",
            "(10201, 15)\n"
          ]
        },
        {
          "output_type": "display_data",
          "data": {
            "text/plain": [
              "<Figure size 432x288 with 1 Axes>"
            ],
            "image/png": "[encoded data removed]"
          },
          "metadata": {
            "needs_background": "light"
          }
        }
      ]
    },
    {
      "cell_type": "code",
      "source": [
        "# Retrieving the terms of the FOM for the PINN-approach\n",
        "# Note: the RHS changes for each parameter\n",
        "import random\n",
        "random.seed(123)\n",
        "num_pinn = 128\n",
        "\n",
        "def rnd():\n",
        "    exp = random.randint(-5, 1)\n",
        "    significand = 0.9 * random.random() + 0.1\n",
        "    return significand * 10**exp\n",
        "\n",
        "parameters_pinn = np.array([rnd() for _ in range(num_pinn)])\n",
        "\n",
        "L = f * v * dx\n",
        "b_l = assemble(L)\n",
        "bc1.apply(b_l)\n",
        "bc2.apply(b_l)\n",
        "bc3.apply(b_l)\n",
        "bc4.apply(b_l)\n",
        "bc5.apply(b_l)\n",
        "\n",
        "b_l = np.array(b_l)\n",
        "\n",
        "LEFT_SIDE  = np.zeros((truncated_modes, truncated_modes, num_pinn))\n",
        "RIGHT_SIDE = np.matmul(np.transpose(UU), b_l) \n",
        "\n",
        "for iter in range(num_pinn):\n",
        "\n",
        "  mu  = parameters_pinn[iter]\n",
        "  u = TrialFunction(V)\n",
        "  v = TestFunction(V)\n",
        "\n",
        "  a0 = (mu * dot(grad(u), grad(v))) * dx\n",
        "  a1 = (dot(b, grad(u)) * v) * dx\n",
        "  a  = a0 + a1\n",
        "  L = f * v * dx\n",
        "\n",
        "  # ... stabilization term\n",
        "  h = CellDiameter(mesh)\n",
        "  bnorm = sqrt(dot(b, b))\n",
        "  Pe = bnorm*h/(2*mu)\n",
        "  tau = 0.5*h/bnorm * conditional(Pe/3 > 1, 1, Pe/3)\n",
        "\n",
        "  # ... streamline diffusion stabilization\n",
        "  c = tau * dot(b, grad(u)) * dot(b, grad(v)) * dx \n",
        "  a_stab = a + c\n",
        "  a_stab = assemble(a_stab)\n",
        "  bc1.apply(a_stab)\n",
        "  bc2.apply(a_stab)\n",
        "  bc3.apply(a_stab)\n",
        "  bc4.apply(a_stab)\n",
        "  bc5.apply(a_stab)\n",
        "\n",
        "  a_stab = a_stab.array()\n",
        "  print(a_stab.shape)\n",
        "  left_side = np.matmul(np.transpose(UU), a_stab)\n",
        "  left_side = np.matmul(left_side, UU)\n",
        "  LEFT_SIDE[:, :, iter] = left_side"
      ],
      "metadata": {
        "id": "VNy180jvftmf",
        "colab": {
          "base_uri": "https://localhost:8080/"
        },
        "outputId": "d14ea02c-0419-49b5-f818-4298fccbb920"
      },
      "execution_count": 36,
      "outputs": [
        {
          "output_type": "stream",
          "name": "stdout",
          "text": [
            "(10201, 10201)\n",
            "(10201, 10201)\n",
            "(10201, 10201)\n",
            "(10201, 10201)\n",
            "(10201, 10201)\n",
            "(10201, 10201)\n",
            "(10201, 10201)\n",
            "(10201, 10201)\n",
            "(10201, 10201)\n",
            "(10201, 10201)\n",
            "(10201, 10201)\n",
            "(10201, 10201)\n",
            "(10201, 10201)\n",
            "(10201, 10201)\n",
            "(10201, 10201)\n",
            "(10201, 10201)\n",
            "(10201, 10201)\n",
            "(10201, 10201)\n",
            "(10201, 10201)\n",
            "(10201, 10201)\n",
            "(10201, 10201)\n",
            "(10201, 10201)\n",
            "(10201, 10201)\n",
            "(10201, 10201)\n",
            "(10201, 10201)\n",
            "(10201, 10201)\n",
            "(10201, 10201)\n",
            "(10201, 10201)\n",
            "(10201, 10201)\n",
            "(10201, 10201)\n",
            "(10201, 10201)\n",
            "(10201, 10201)\n",
            "(10201, 10201)\n",
            "(10201, 10201)\n",
            "(10201, 10201)\n",
            "(10201, 10201)\n",
            "(10201, 10201)\n",
            "(10201, 10201)\n",
            "(10201, 10201)\n",
            "(10201, 10201)\n",
            "(10201, 10201)\n",
            "(10201, 10201)\n",
            "(10201, 10201)\n",
            "(10201, 10201)\n",
            "(10201, 10201)\n",
            "(10201, 10201)\n",
            "(10201, 10201)\n",
            "(10201, 10201)\n",
            "(10201, 10201)\n",
            "(10201, 10201)\n",
            "(10201, 10201)\n",
            "(10201, 10201)\n",
            "(10201, 10201)\n",
            "(10201, 10201)\n",
            "(10201, 10201)\n",
            "(10201, 10201)\n",
            "(10201, 10201)\n",
            "(10201, 10201)\n",
            "(10201, 10201)\n",
            "(10201, 10201)\n",
            "(10201, 10201)\n",
            "(10201, 10201)\n",
            "(10201, 10201)\n",
            "(10201, 10201)\n",
            "(10201, 10201)\n",
            "(10201, 10201)\n",
            "(10201, 10201)\n",
            "(10201, 10201)\n",
            "(10201, 10201)\n",
            "(10201, 10201)\n",
            "(10201, 10201)\n",
            "(10201, 10201)\n",
            "(10201, 10201)\n",
            "(10201, 10201)\n",
            "(10201, 10201)\n",
            "(10201, 10201)\n",
            "(10201, 10201)\n",
            "(10201, 10201)\n",
            "(10201, 10201)\n",
            "(10201, 10201)\n",
            "(10201, 10201)\n",
            "(10201, 10201)\n",
            "(10201, 10201)\n",
            "(10201, 10201)\n",
            "(10201, 10201)\n",
            "(10201, 10201)\n",
            "(10201, 10201)\n",
            "(10201, 10201)\n",
            "(10201, 10201)\n",
            "(10201, 10201)\n",
            "(10201, 10201)\n",
            "(10201, 10201)\n",
            "(10201, 10201)\n",
            "(10201, 10201)\n",
            "(10201, 10201)\n",
            "(10201, 10201)\n",
            "(10201, 10201)\n",
            "(10201, 10201)\n",
            "(10201, 10201)\n",
            "(10201, 10201)\n",
            "(10201, 10201)\n",
            "(10201, 10201)\n",
            "(10201, 10201)\n",
            "(10201, 10201)\n",
            "(10201, 10201)\n",
            "(10201, 10201)\n",
            "(10201, 10201)\n",
            "(10201, 10201)\n",
            "(10201, 10201)\n",
            "(10201, 10201)\n",
            "(10201, 10201)\n",
            "(10201, 10201)\n",
            "(10201, 10201)\n",
            "(10201, 10201)\n",
            "(10201, 10201)\n",
            "(10201, 10201)\n",
            "(10201, 10201)\n",
            "(10201, 10201)\n",
            "(10201, 10201)\n",
            "(10201, 10201)\n",
            "(10201, 10201)\n",
            "(10201, 10201)\n",
            "(10201, 10201)\n",
            "(10201, 10201)\n",
            "(10201, 10201)\n",
            "(10201, 10201)\n",
            "(10201, 10201)\n",
            "(10201, 10201)\n"
          ]
        }
      ]
    },
    {
      "cell_type": "code",
      "source": [
        "# Solving the ROM at each parameter instance\n",
        "solutions_y = np.zeros((truncated_modes, num_pinn))\n",
        "for i in range(solutions_y.shape[1]):\n",
        "  y = np.linalg.solve(LEFT_SIDE[:,:,i], RIGHT_SIDE)\n",
        "  solutions_y[:, i] = y\n",
        "\n",
        "print(solutions_y.T.shape)"
      ],
      "metadata": {
        "id": "fUcxrdtAhC0y",
        "colab": {
          "base_uri": "https://localhost:8080/"
        },
        "outputId": "2ac842bd-5bc5-4715-d3ee-86a5a19ba84f"
      },
      "execution_count": 37,
      "outputs": [
        {
          "output_type": "stream",
          "name": "stdout",
          "text": [
            "(128, 15)\n"
          ]
        }
      ]
    },
    {
      "cell_type": "code",
      "source": [
        "# Preparing the PINN dataset\n",
        "print(parameters_pinn.shape)\n",
        "data_PINN = np.append(np.expand_dims(parameters_pinn, axis = 1), solutions_y.T, axis = 1)\n",
        "print(data_PINN.shape)"
      ],
      "metadata": {
        "id": "kzGjYbmbeqYA",
        "colab": {
          "base_uri": "https://localhost:8080/"
        },
        "outputId": "7a2e90a3-8c64-45dc-80b7-850298a47053"
      },
      "execution_count": 38,
      "outputs": [
        {
          "output_type": "stream",
          "name": "stdout",
          "text": [
            "(128,)\n",
            "(128, 16)\n"
          ]
        }
      ]
    },
    {
      "cell_type": "code",
      "source": [
        "# Retrieving the Projection Coefficients for the PDNN\n",
        "pro_coeff = np.matmul(np.transpose(UU), Snapshots)\n",
        "pro_coeff.shape"
      ],
      "metadata": {
        "id": "D4nfeej_K9HN",
        "colab": {
          "base_uri": "https://localhost:8080/"
        },
        "outputId": "ae83e10a-e05f-41a5-fcda-5843fbdb4d7e"
      },
      "execution_count": 39,
      "outputs": [
        {
          "output_type": "execute_result",
          "data": {
            "text/plain": [
              "(15, 80)"
            ]
          },
          "metadata": {},
          "execution_count": 39
        }
      ]
    },
    {
      "cell_type": "code",
      "source": [
        "# Preparing the PDNN dataset\n",
        "\n",
        "pdnn_dataset = np.zeros((num_samples, truncated_modes + 1))\n",
        "pdnn_dataset[:, 0] = parameters\n",
        "print(pdnn_dataset.shape)\n",
        "pdnn_dataset[:, 1:] = pro_coeff.T\n",
        "print(pdnn_dataset[79,:])"
      ],
      "metadata": {
        "id": "2FkLeXeXWRuc",
        "colab": {
          "base_uri": "https://localhost:8080/"
        },
        "outputId": "df82ce90-6657-4e16-f03f-b476289d135c"
      },
      "execution_count": 40,
      "outputs": [
        {
          "output_type": "stream",
          "name": "stdout",
          "text": [
            "(80, 16)\n",
            "[ 2.07609606e-02 -7.12690184e+01  5.35637238e+00  7.87173392e+00\n",
            "  7.83368420e-01  1.91449931e+00 -1.19297346e+00 -9.35864567e-02\n",
            " -5.79789309e-01 -3.80129374e-01 -1.24502147e-01 -5.71280405e-02\n",
            " -1.69560595e-01 -6.13351827e-03 -1.81185711e-03  3.24756787e-03]\n"
          ]
        }
      ]
    },
    {
      "cell_type": "code",
      "source": [
        "from google.colab import drive\n",
        "drive.mount('drive')"
      ],
      "metadata": {
        "id": "Rhls6edIZMBk",
        "colab": {
          "base_uri": "https://localhost:8080/"
        },
        "outputId": "2c91d851-d05f-4725-9f08-cb5689067093"
      },
      "execution_count": 41,
      "outputs": [
        {
          "output_type": "stream",
          "name": "stdout",
          "text": [
            "Drive already mounted at drive; to attempt to forcibly remount, call drive.mount(\"drive\", force_remount=True).\n"
          ]
        }
      ]
    },
    {
      "cell_type": "code",
      "source": [
        "# Saving on Google Drive\n",
        "\n",
        "np.savetxt(\"parameter_ad_di.csv\", parameters, delimiter=\",\")\n",
        "!cp parameter_ad_di.csv \"drive/My Drive/Tesi/Advection_diffusion\"\n",
        "np.savetxt(\"coefficients_ad_di.csv\", pro_coeff, delimiter=\",\")\n",
        "!cp coefficients_ad_di.csv \"drive/My Drive/Tesi/Advection_diffusion\"\n",
        "np.savetxt(\"basis_ad_di.csv\", UU, delimiter=\",\")\n",
        "!cp basis_ad_di.csv \"drive/My Drive/Tesi/Advection_diffusion\"\n",
        "np.savetxt(\"snapshots_ad_di.csv\", Snapshots, delimiter=\",\")\n",
        "!cp snapshots_ad_di.csv \"drive/My Drive/Tesi/Advection_diffusion\"\n",
        "np.savetxt(\"snapshots_ae_ad_di.csv\", Snapshots_ae, delimiter=\",\")\n",
        "!cp snapshots_ae_ad_di.csv \"drive/My Drive/Tesi/Advection_diffusion\"\n",
        "#np.savetxt(\"LHS.csv\", LEFT_SIDE, delimiter=\",\")\n",
        "#!cp LHS.csv \"drive/My Drive/Advection_diffusion\"\n",
        "#np.savetxt(\"RHS.csv\", RIGHT_SIDE, delimiter=\",\")\n",
        "#!cp RHS.csv \"drive/My Drive/Advection_diffusion\"\n",
        "np.savetxt(\"pinn_dataset.txt\", data_PINN, delimiter=\" \")\n",
        "!cp pinn_dataset.txt \"drive/My Drive/Tesi/Advection_diffusion\"\n",
        "np.savetxt(\"pdnn_dataset_ad_di.txt\", pdnn_dataset, delimiter=\" \")\n",
        "!cp pdnn_dataset_ad_di.txt \"drive/My Drive/Tesi/Advection_diffusion\""
      ],
      "metadata": {
        "id": "I-XTkPBYZsCr"
      },
      "execution_count": 43,
      "outputs": []
    }
  ]
}